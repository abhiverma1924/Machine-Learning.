{
  "nbformat": 4,
  "nbformat_minor": 0,
  "metadata": {
    "colab": {
      "name": "Mniist_Fashion.ipynb",
      "version": "0.3.2",
      "provenance": [],
      "collapsed_sections": [],
      "include_colab_link": true
    },
    "kernelspec": {
      "name": "python3",
      "display_name": "Python 3"
    },
    "accelerator": "GPU"
  },
  "cells": [
    {
      "cell_type": "markdown",
      "metadata": {
        "id": "view-in-github",
        "colab_type": "text"
      },
      "source": [
        "<a href=\"https://colab.research.google.com/github/abhiverma1924/Machine-Learning./blob/master/Mniist_Fashion.ipynb\" target=\"_parent\"><img src=\"https://colab.research.google.com/assets/colab-badge.svg\" alt=\"Open In Colab\"/></a>"
      ]
    },
    {
      "cell_type": "code",
      "metadata": {
        "id": "zk-ohNUNSTKl",
        "colab_type": "code",
        "outputId": "9c0ff22e-4587-4b49-8e77-227ee84689ac",
        "colab": {
          "base_uri": "https://localhost:8080/",
          "height": 183
        }
      },
      "source": [
        "! kaggle "
      ],
      "execution_count": 0,
      "outputs": [
        {
          "output_type": "stream",
          "text": [
            "Traceback (most recent call last):\n",
            "  File \"/usr/local/bin/kaggle\", line 6, in <module>\n",
            "    from kaggle.cli import main\n",
            "  File \"/usr/local/lib/python2.7/dist-packages/kaggle/__init__.py\", line 23, in <module>\n",
            "    api.authenticate()\n",
            "  File \"/usr/local/lib/python2.7/dist-packages/kaggle/api/kaggle_api_extended.py\", line 146, in authenticate\n",
            "    self.config_file, self.config_dir))\n",
            "IOError: Could not find kaggle.json. Make sure it's located in /root/.kaggle. Or use the environment method.\n"
          ],
          "name": "stdout"
        }
      ]
    },
    {
      "cell_type": "code",
      "metadata": {
        "id": "jDUitjK_Ud3C",
        "colab_type": "code",
        "colab": {}
      },
      "source": [
        "import numpy as np \n",
        "import pandas as pd \n",
        "import matplotlib.pyplot as plt \n",
        "from keras.models import Sequential\n",
        "from keras.layers import Dense, Convolution2D, Dropout, Flatten, MaxPooling2D\n",
        "from keras.optimizers import adam\n",
        "from keras.losses import categorical_crossentropy\n",
        "import os\n",
        "from keras.utils import np_utils"
      ],
      "execution_count": 0,
      "outputs": []
    },
    {
      "cell_type": "code",
      "metadata": {
        "id": "nGe83ErBVM5l",
        "colab_type": "code",
        "colab": {}
      },
      "source": [
        "\n",
        "#! cp kaggle.json /root/.kaggle/kaggle.json"
      ],
      "execution_count": 0,
      "outputs": []
    },
    {
      "cell_type": "code",
      "metadata": {
        "id": "pAaI1or0Vc03",
        "colab_type": "code",
        "colab": {}
      },
      "source": [
        "#! chmod 600 /root/.kaggle/kaggle.json"
      ],
      "execution_count": 0,
      "outputs": []
    },
    {
      "cell_type": "code",
      "metadata": {
        "id": "0KVVqKAYWJzc",
        "colab_type": "code",
        "colab": {}
      },
      "source": [
        "#! kaggle datasets download -d zalando-research/fashionmnist"
      ],
      "execution_count": 0,
      "outputs": []
    },
    {
      "cell_type": "code",
      "metadata": {
        "id": "eGO5LF49WhEc",
        "colab_type": "code",
        "colab": {}
      },
      "source": [
        "#! unzip -qq fashionmnist.zip"
      ],
      "execution_count": 0,
      "outputs": []
    },
    {
      "cell_type": "code",
      "metadata": {
        "id": "zQHx85wwWoVc",
        "colab_type": "code",
        "colab": {}
      },
      "source": [
        "data = pd.read_csv(\"fashion-mnist_train.csv\").values"
      ],
      "execution_count": 0,
      "outputs": []
    },
    {
      "cell_type": "code",
      "metadata": {
        "id": "-RQSNaY9dwxp",
        "colab_type": "code",
        "colab": {}
      },
      "source": [
        "#data.head()"
      ],
      "execution_count": 0,
      "outputs": []
    },
    {
      "cell_type": "code",
      "metadata": {
        "id": "8chhtBYheJKv",
        "colab_type": "code",
        "colab": {}
      },
      "source": [
        "X_data = data[:,1:]"
      ],
      "execution_count": 0,
      "outputs": []
    },
    {
      "cell_type": "code",
      "metadata": {
        "id": "VZx1S0rCnnWS",
        "colab_type": "code",
        "colab": {}
      },
      "source": [
        "#image = X_data[0]"
      ],
      "execution_count": 0,
      "outputs": []
    },
    {
      "cell_type": "code",
      "metadata": {
        "id": "2_slmPSont7E",
        "colab_type": "code",
        "colab": {}
      },
      "source": [
        "#plt.imshow(image)"
      ],
      "execution_count": 0,
      "outputs": []
    },
    {
      "cell_type": "code",
      "metadata": {
        "id": "QrP1_L5lepwo",
        "colab_type": "code",
        "colab": {}
      },
      "source": [
        "y_data = data[:,0]"
      ],
      "execution_count": 0,
      "outputs": []
    },
    {
      "cell_type": "code",
      "metadata": {
        "id": "WlINB1bLex_X",
        "colab_type": "code",
        "outputId": "1202c4f5-fa75-4fc2-cd8e-e6d680a32c07",
        "colab": {
          "base_uri": "https://localhost:8080/",
          "height": 35
        }
      },
      "source": [
        "y_data.shape\n",
        "X_data.shape"
      ],
      "execution_count": 102,
      "outputs": [
        {
          "output_type": "execute_result",
          "data": {
            "text/plain": [
              "(60000, 784)"
            ]
          },
          "metadata": {
            "tags": []
          },
          "execution_count": 102
        }
      ]
    },
    {
      "cell_type": "code",
      "metadata": {
        "id": "bOwnPzjie0_E",
        "colab_type": "code",
        "colab": {}
      },
      "source": [
        "# X_train, X_test, y_train, y_test = train_test_split(X_data, y_data, test_size=0.33, random_state=42)"
      ],
      "execution_count": 0,
      "outputs": []
    },
    {
      "cell_type": "code",
      "metadata": {
        "id": "3KRW1UqAoln4",
        "colab_type": "code",
        "colab": {}
      },
      "source": [
        "X_train = X_data.reshape(-1,28,28,1)\n",
        "y_train = np_utils.to_categorical(y_data)"
      ],
      "execution_count": 0,
      "outputs": []
    },
    {
      "cell_type": "code",
      "metadata": {
        "id": "GB2pZPyVfhrL",
        "colab_type": "code",
        "colab": {}
      },
      "source": [
        "model = Sequential()\n",
        "model.add(Convolution2D(32,(3,3),input_shape=(28,28,1),activation=\"relu\"))\n",
        "model.add(Convolution2D(64,(3,3),activation= \"relu\"))\n",
        "model.add(Dropout(0.3))\n",
        "model.add(MaxPooling2D((2,2)))\n",
        "model.add(Convolution2D(32,(3,3),activation= \"relu\"))\n",
        "model.add(Convolution2D(64,(5,5),activation= \"relu\"))\n",
        "model.add(Flatten())\n",
        "model.add(Dense(10,activation=\"softmax\"))"
      ],
      "execution_count": 0,
      "outputs": []
    },
    {
      "cell_type": "code",
      "metadata": {
        "id": "G63bxLwlh1R_",
        "colab_type": "code",
        "outputId": "ddaacab5-7974-490e-bf7a-68dfb1431aba",
        "colab": {
          "base_uri": "https://localhost:8080/",
          "height": 435
        }
      },
      "source": [
        "\n",
        "model.summary()"
      ],
      "execution_count": 106,
      "outputs": [
        {
          "output_type": "stream",
          "text": [
            "_________________________________________________________________\n",
            "Layer (type)                 Output Shape              Param #   \n",
            "=================================================================\n",
            "conv2d_21 (Conv2D)           (None, 26, 26, 32)        320       \n",
            "_________________________________________________________________\n",
            "conv2d_22 (Conv2D)           (None, 24, 24, 64)        18496     \n",
            "_________________________________________________________________\n",
            "dropout_6 (Dropout)          (None, 24, 24, 64)        0         \n",
            "_________________________________________________________________\n",
            "max_pooling2d_6 (MaxPooling2 (None, 12, 12, 64)        0         \n",
            "_________________________________________________________________\n",
            "conv2d_23 (Conv2D)           (None, 10, 10, 32)        18464     \n",
            "_________________________________________________________________\n",
            "conv2d_24 (Conv2D)           (None, 6, 6, 64)          51264     \n",
            "_________________________________________________________________\n",
            "flatten_5 (Flatten)          (None, 2304)              0         \n",
            "_________________________________________________________________\n",
            "dense_5 (Dense)              (None, 10)                23050     \n",
            "=================================================================\n",
            "Total params: 111,594\n",
            "Trainable params: 111,594\n",
            "Non-trainable params: 0\n",
            "_________________________________________________________________\n"
          ],
          "name": "stdout"
        }
      ]
    },
    {
      "cell_type": "code",
      "metadata": {
        "id": "d2PdvD_Oh3eM",
        "colab_type": "code",
        "colab": {}
      },
      "source": [
        "model.compile(optimizer=\"adam\", loss=\"categorical_crossentropy\",metrics=['accuracy'])"
      ],
      "execution_count": 0,
      "outputs": []
    },
    {
      "cell_type": "code",
      "metadata": {
        "id": "42lqFRS0mnaj",
        "colab_type": "code",
        "outputId": "c83c58d7-489b-402f-ffeb-7f495aec39a3",
        "colab": {
          "base_uri": "https://localhost:8080/",
          "height": 399
        }
      },
      "source": [
        "model.fit(X_train,y_train,epochs=10,batch_size = 256 ,shuffle=True)"
      ],
      "execution_count": 108,
      "outputs": [
        {
          "output_type": "stream",
          "text": [
            "Epoch 1/10\n",
            "60000/60000 [==============================] - 6s 101us/step - loss: 0.8462 - acc: 0.7696\n",
            "Epoch 2/10\n",
            "60000/60000 [==============================] - 6s 93us/step - loss: 0.3823 - acc: 0.8609\n",
            "Epoch 3/10\n",
            "60000/60000 [==============================] - 6s 92us/step - loss: 0.3202 - acc: 0.8844\n",
            "Epoch 4/10\n",
            "60000/60000 [==============================] - 6s 93us/step - loss: 0.2804 - acc: 0.8972\n",
            "Epoch 5/10\n",
            "60000/60000 [==============================] - 6s 93us/step - loss: 0.2551 - acc: 0.9067\n",
            "Epoch 6/10\n",
            "60000/60000 [==============================] - 6s 94us/step - loss: 0.2355 - acc: 0.9128\n",
            "Epoch 7/10\n",
            "60000/60000 [==============================] - 6s 95us/step - loss: 0.2143 - acc: 0.9212\n",
            "Epoch 8/10\n",
            "60000/60000 [==============================] - 6s 94us/step - loss: 0.2050 - acc: 0.9251\n",
            "Epoch 9/10\n",
            "60000/60000 [==============================] - 6s 95us/step - loss: 0.1910 - acc: 0.9293\n",
            "Epoch 10/10\n",
            "60000/60000 [==============================] - 6s 93us/step - loss: 0.1803 - acc: 0.9323\n"
          ],
          "name": "stdout"
        },
        {
          "output_type": "execute_result",
          "data": {
            "text/plain": [
              "<keras.callbacks.History at 0x7fc2380683c8>"
            ]
          },
          "metadata": {
            "tags": []
          },
          "execution_count": 108
        }
      ]
    },
    {
      "cell_type": "code",
      "metadata": {
        "id": "FwqYNnlRnSie",
        "colab_type": "code",
        "colab": {}
      },
      "source": [
        "#model.evaluate()\n"
      ],
      "execution_count": 0,
      "outputs": []
    },
    {
      "cell_type": "code",
      "metadata": {
        "id": "0FvHDboFzwES",
        "colab_type": "code",
        "colab": {}
      },
      "source": [
        ""
      ],
      "execution_count": 0,
      "outputs": []
    }
  ]
}