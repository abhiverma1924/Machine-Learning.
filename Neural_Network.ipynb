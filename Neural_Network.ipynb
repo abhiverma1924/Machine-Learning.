{
  "nbformat": 4,
  "nbformat_minor": 0,
  "metadata": {
    "colab": {
      "name": "Neural_Network.ipynb",
      "version": "0.3.2",
      "provenance": [],
      "collapsed_sections": [],
      "include_colab_link": true
    },
    "kernelspec": {
      "name": "python3",
      "display_name": "Python 3"
    }
  },
  "cells": [
    {
      "cell_type": "markdown",
      "metadata": {
        "id": "view-in-github",
        "colab_type": "text"
      },
      "source": [
        "<a href=\"https://colab.research.google.com/github/abhiverma1924/Machine-Learning./blob/master/Neural_Network.ipynb\" target=\"_parent\"><img src=\"https://colab.research.google.com/assets/colab-badge.svg\" alt=\"Open In Colab\"/></a>"
      ]
    },
    {
      "cell_type": "code",
      "metadata": {
        "id": "QpeOPCRkZBJX",
        "colab_type": "code",
        "colab": {}
      },
      "source": [
        "from keras.layers import Dense\n",
        "from keras.models import Sequential\n",
        "\n",
        "import numpy as np\n",
        "import matplotlib.pyplot as plt\n",
        "from sklearn.model_selection import train_test_split\n",
        "from sklearn.datasets import make_blobs\n",
        "from sklearn.preprocessing import OneHotEncoder\n",
        "\n",
        "from keras.losses import categorical_crossentropy\n",
        "from keras.optimizers import Adam"
      ],
      "execution_count": 0,
      "outputs": []
    },
    {
      "cell_type": "code",
      "metadata": {
        "id": "kZ-pHLW5a-oj",
        "colab_type": "code",
        "colab": {}
      },
      "source": [
        "X , y = make_blobs(1000,centers=4,random_state=42) "
      ],
      "execution_count": 0,
      "outputs": []
    },
    {
      "cell_type": "code",
      "metadata": {
        "id": "VGds4hz4cVRj",
        "colab_type": "code",
        "colab": {
          "base_uri": "https://localhost:8080/",
          "height": 34
        },
        "outputId": "a0138ff5-2299-429e-e8b9-53eb46206e6e"
      },
      "source": [
        "X.shape\n",
        "y.shape"
      ],
      "execution_count": 7,
      "outputs": [
        {
          "output_type": "execute_result",
          "data": {
            "text/plain": [
              "(1000,)"
            ]
          },
          "metadata": {
            "tags": []
          },
          "execution_count": 7
        }
      ]
    },
    {
      "cell_type": "code",
      "metadata": {
        "id": "U0LcKl1Zcdfn",
        "colab_type": "code",
        "colab": {}
      },
      "source": [
        "ohe = OneHotEncoder(categories='auto')"
      ],
      "execution_count": 0,
      "outputs": []
    },
    {
      "cell_type": "code",
      "metadata": {
        "id": "Q8sHolcWcpLl",
        "colab_type": "code",
        "colab": {}
      },
      "source": [
        "y_hot = ohe.fit_transform(y.reshape(-1,1)).todense()"
      ],
      "execution_count": 0,
      "outputs": []
    },
    {
      "cell_type": "code",
      "metadata": {
        "id": "5MOAdOL9fHr6",
        "colab_type": "code",
        "colab": {}
      },
      "source": [
        "X_train, X_test, y_train, y_test = train_test_split(\n",
        "...     X, y_hot, test_size=0.33, random_state=42)"
      ],
      "execution_count": 0,
      "outputs": []
    },
    {
      "cell_type": "code",
      "metadata": {
        "id": "m0K4dpLGdBfP",
        "colab_type": "code",
        "colab": {}
      },
      "source": [
        "hidden = Dense(5,activation=\"relu\",input_shape=(2,))\n",
        "out = Dense(4,activation=\"softmax\")"
      ],
      "execution_count": 0,
      "outputs": []
    },
    {
      "cell_type": "code",
      "metadata": {
        "id": "hsH-t6dvdWS7",
        "colab_type": "code",
        "colab": {
          "base_uri": "https://localhost:8080/",
          "height": 204
        },
        "outputId": "a60b7880-a669-45df-bb00-77870facd9b9"
      },
      "source": [
        "model = Sequential()\n",
        "model.add(hidden)\n",
        "model.add(out)\n",
        "model.summary()"
      ],
      "execution_count": 26,
      "outputs": [
        {
          "output_type": "stream",
          "text": [
            "_________________________________________________________________\n",
            "Layer (type)                 Output Shape              Param #   \n",
            "=================================================================\n",
            "dense_5 (Dense)              (None, 5)                 15        \n",
            "_________________________________________________________________\n",
            "dense_6 (Dense)              (None, 4)                 24        \n",
            "=================================================================\n",
            "Total params: 39\n",
            "Trainable params: 39\n",
            "Non-trainable params: 0\n",
            "_________________________________________________________________\n"
          ],
          "name": "stdout"
        }
      ]
    },
    {
      "cell_type": "code",
      "metadata": {
        "id": "-tEqT8xOeTnw",
        "colab_type": "code",
        "colab": {}
      },
      "source": [
        "model.compile(optimizer=\"adam\",loss=\"categorical_crossentropy\",metrics=[\"accuracy\"])\n"
      ],
      "execution_count": 0,
      "outputs": []
    },
    {
      "cell_type": "code",
      "metadata": {
        "id": "6IM7dHD6e13V",
        "colab_type": "code",
        "colab": {
          "base_uri": "https://localhost:8080/",
          "height": 374
        },
        "outputId": "faddfba3-02f7-46d7-ad9c-ca182bcb8229"
      },
      "source": [
        "model.fit(X_train , y_train, epochs=10, batch_size=20)"
      ],
      "execution_count": 34,
      "outputs": [
        {
          "output_type": "stream",
          "text": [
            "Epoch 1/10\n",
            "670/670 [==============================] - 1s 1ms/step - loss: 1.4624 - acc: 0.2194 \n",
            "Epoch 2/10\n",
            "670/670 [==============================] - 0s 73us/step - loss: 1.2227 - acc: 0.2582\n",
            "Epoch 3/10\n",
            "670/670 [==============================] - 0s 78us/step - loss: 1.0150 - acc: 0.4239\n",
            "Epoch 4/10\n",
            "670/670 [==============================] - 0s 68us/step - loss: 0.8439 - acc: 0.5119\n",
            "Epoch 5/10\n",
            "670/670 [==============================] - 0s 73us/step - loss: 0.7029 - acc: 0.5149\n",
            "Epoch 6/10\n",
            "670/670 [==============================] - 0s 64us/step - loss: 0.5851 - acc: 0.7343\n",
            "Epoch 7/10\n",
            "670/670 [==============================] - 0s 69us/step - loss: 0.4851 - acc: 0.8045\n",
            "Epoch 8/10\n",
            "670/670 [==============================] - 0s 72us/step - loss: 0.4016 - acc: 0.9955\n",
            "Epoch 9/10\n",
            "670/670 [==============================] - 0s 71us/step - loss: 0.3341 - acc: 0.9896\n",
            "Epoch 10/10\n",
            "670/670 [==============================] - 0s 61us/step - loss: 0.2777 - acc: 0.9985\n"
          ],
          "name": "stdout"
        },
        {
          "output_type": "execute_result",
          "data": {
            "text/plain": [
              "<keras.callbacks.History at 0x7fea1ecf3f98>"
            ]
          },
          "metadata": {
            "tags": []
          },
          "execution_count": 34
        }
      ]
    },
    {
      "cell_type": "code",
      "metadata": {
        "id": "7iPgR8fCfTAC",
        "colab_type": "code",
        "colab": {
          "base_uri": "https://localhost:8080/",
          "height": 51
        },
        "outputId": "ca5d6534-519b-4930-ec32-433b4185c954"
      },
      "source": [
        "model.evaluate(X_test,y_test)"
      ],
      "execution_count": 35,
      "outputs": [
        {
          "output_type": "stream",
          "text": [
            "330/330 [==============================] - 0s 275us/step\n"
          ],
          "name": "stdout"
        },
        {
          "output_type": "execute_result",
          "data": {
            "text/plain": [
              "[0.2619282850713441, 1.0]"
            ]
          },
          "metadata": {
            "tags": []
          },
          "execution_count": 35
        }
      ]
    },
    {
      "cell_type": "code",
      "metadata": {
        "id": "z2-xFxTbgDAz",
        "colab_type": "code",
        "colab": {}
      },
      "source": [
        ""
      ],
      "execution_count": 0,
      "outputs": []
    }
  ]
}